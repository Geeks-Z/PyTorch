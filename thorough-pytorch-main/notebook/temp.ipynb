{
 "cells": [
  {
   "cell_type": "code",
   "execution_count": 1,
   "metadata": {},
   "outputs": [
    {
     "name": "stderr",
     "output_type": "stream",
     "text": [
      "/home/team/zhaohongwei/anaconda3/envs/torch_hwzhao/lib/python3.7/site-packages/tqdm/auto.py:22: TqdmWarning: IProgress not found. Please update jupyter and ipywidgets. See https://ipywidgets.readthedocs.io/en/stable/user_install.html\n",
      "  from .autonotebook import tqdm as notebook_tqdm\n"
     ]
    }
   ],
   "source": [
    "import torch\n",
    "import numpy as np\n",
    "import torch.nn as nn\n",
    "import torch.nn.functional as F\n",
    "import math"
   ]
  },
  {
   "cell_type": "code",
   "execution_count": null,
   "metadata": {},
   "outputs": [],
   "source": [
    "torch"
   ]
  },
  {
   "cell_type": "code",
   "execution_count": 3,
   "metadata": {},
   "outputs": [
    {
     "name": "stdout",
     "output_type": "stream",
     "text": [
      "4\n"
     ]
    }
   ],
   "source": [
    "out = [1,2,3,4]\n",
    "print(out[-1])"
   ]
  },
  {
   "cell_type": "code",
   "execution_count": 83,
   "metadata": {},
   "outputs": [
    {
     "name": "stdout",
     "output_type": "stream",
     "text": [
      "tensor([0.9348, 1.6738, 0.2401])\n",
      "torch.Size([3, 1, 2])\n"
     ]
    }
   ],
   "source": [
    "weight = torch.randn(3)\n",
    "print(weight)\n",
    "x = torch.ones(3,1,2)\n",
    "ans = torch.mul(x.permute(1,2,0),weight)\n",
    "ans = ans.permute(2,0,1)\n",
    "print(ans.shape)\n",
    "# print(torch.mul(x,weight))"
   ]
  },
  {
   "cell_type": "code",
   "execution_count": 62,
   "metadata": {},
   "outputs": [],
   "source": [
    "class Adapter(nn.Module):\n",
    "    def __init__(self,\n",
    "                 config=None,\n",
    "                 d_model=None,\n",
    "                 bottleneck=None,\n",
    "                 ):\n",
    "        super().__init__()\n",
    "        # 按照增量阶段生成lora\n",
    "        self.expert_lora = nn.ModuleDict(\n",
    "                {\n",
    "                    'down_proj': (nn.Linear(6, 5)),\n",
    "                    'up_proj': (nn.Linear(5, 6))\n",
    "                }\n",
    "            )\n",
    "        self.expert_loras = nn.ModuleList([self.expert_lora for i in range(3)])\n",
    "        "
   ]
  },
  {
   "cell_type": "code",
   "execution_count": 67,
   "metadata": {},
   "outputs": [
    {
     "name": "stdout",
     "output_type": "stream",
     "text": [
      "ModuleList(\n",
      "  (0): ModuleDict(\n",
      "    (down_proj): Linear(in_features=6, out_features=5, bias=True)\n",
      "    (up_proj): Linear(in_features=5, out_features=6, bias=True)\n",
      "  )\n",
      "  (1): ModuleDict(\n",
      "    (down_proj): Linear(in_features=6, out_features=5, bias=True)\n",
      "    (up_proj): Linear(in_features=5, out_features=6, bias=True)\n",
      "  )\n",
      "  (2): ModuleDict(\n",
      "    (down_proj): Linear(in_features=6, out_features=5, bias=True)\n",
      "    (up_proj): Linear(in_features=5, out_features=6, bias=True)\n",
      "  )\n",
      ")\n"
     ]
    }
   ],
   "source": [
    "net = Adapter()\n",
    "print(net.expert_loras)"
   ]
  },
  {
   "cell_type": "code",
   "execution_count": 25,
   "metadata": {},
   "outputs": [
    {
     "name": "stdout",
     "output_type": "stream",
     "text": [
      "tensor([[0.0826, 0.1179, 0.1173, 0.4351, 0.2471],\n",
      "        [0.1506, 0.2258, 0.2749, 0.2319, 0.1169],\n",
      "        [0.4563, 0.1899, 0.1133, 0.1241, 0.1164],\n",
      "        [0.0682, 0.1515, 0.0989, 0.2225, 0.4588],\n",
      "        [0.4964, 0.1529, 0.0872, 0.1904, 0.0731]], grad_fn=<SoftmaxBackward>)\n",
      "torch.return_types.topk(\n",
      "values=tensor([[0.4351],\n",
      "        [0.2749],\n",
      "        [0.4563],\n",
      "        [0.4588],\n",
      "        [0.4964]], grad_fn=<TopkBackward>),\n",
      "indices=tensor([[3],\n",
      "        [2],\n",
      "        [0],\n",
      "        [4],\n",
      "        [0]]))\n"
     ]
    },
    {
     "name": "stderr",
     "output_type": "stream",
     "text": [
      "/home/team/zhaohongwei/anaconda3/envs/torch_hwzhao/lib/python3.7/site-packages/ipykernel_launcher.py:4: UserWarning: Implicit dimension choice for softmax has been deprecated. Change the call to include dim=X as an argument.\n",
      "  after removing the cwd from sys.path.\n"
     ]
    }
   ],
   "source": [
    "x = torch.randn(5,768)\n",
    "router = nn.Linear(768,5)\n",
    "out = router(x)\n",
    "route_weight = nn.functional.softmax(router(x), dtype=torch.float32)\n",
    "print(route_weight)\n",
    "print(torch.topk(route_weight,1,largest=True))\n",
    "# print(torch.unsqueeze(route_weight[:,:,0], -1))"
   ]
  },
  {
   "cell_type": "code",
   "execution_count": 20,
   "metadata": {},
   "outputs": [
    {
     "name": "stdout",
     "output_type": "stream",
     "text": [
      "tensor([[0.0181, 0.7638, 0.0089, 0.7393, 0.9082],\n",
      "        [0.4023, 0.5285, 0.6994, 0.8291, 0.9270],\n",
      "        [0.6205, 0.9296, 0.0584, 0.9661, 0.6988],\n",
      "        [0.8138, 0.8475, 0.3744, 0.9592, 0.6532]])\n",
      "torch.return_types.topk(\n",
      "values=tensor([[0.9082],\n",
      "        [0.9270],\n",
      "        [0.9661],\n",
      "        [0.9592]]),\n",
      "indices=tensor([[4],\n",
      "        [4],\n",
      "        [3],\n",
      "        [3]]))\n"
     ]
    }
   ],
   "source": [
    "input = torch.rand(4,5)\n",
    "print(input)\n",
    "print(input.topk(k=1,dim=1,largest=True))"
   ]
  },
  {
   "cell_type": "code",
   "execution_count": 30,
   "metadata": {},
   "outputs": [],
   "source": [
    "import collections\n",
    "class Adapter(nn.Module):\n",
    "   def __init__(self):                        \n",
    "        super(Adapter, self).__init__()\n",
    "        self.expert_lora0 = (nn.Sequential(OrderedDict({\n",
    "                    'down_proj': nn.init.kaiming_uniform_(nn.Linear(self.n_embd, self.down_size).weight, a=math.sqrt(5)),\n",
    "                    'up_proj': nn.init.zeros_(nn.Linear(self.down_size, self.n_embd).weight)\n",
    "                })))"
   ]
  },
  {
   "cell_type": "code",
   "execution_count": null,
   "metadata": {},
   "outputs": [],
   "source": []
  }
 ],
 "metadata": {
  "kernelspec": {
   "display_name": "cl",
   "language": "python",
   "name": "python3"
  },
  "language_info": {
   "codemirror_mode": {
    "name": "ipython",
    "version": 3
   },
   "file_extension": ".py",
   "mimetype": "text/x-python",
   "name": "python",
   "nbconvert_exporter": "python",
   "pygments_lexer": "ipython3",
   "version": "3.7.13"
  }
 },
 "nbformat": 4,
 "nbformat_minor": 2
}
