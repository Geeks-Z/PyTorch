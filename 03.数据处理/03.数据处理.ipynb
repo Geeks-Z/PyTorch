{
 "cells": [
  {
   "cell_type": "code",
   "execution_count": 1,
   "metadata": {},
   "outputs": [
    {
     "name": "stdout",
     "output_type": "stream",
     "text": [
      "50000\n"
     ]
    }
   ],
   "source": [
    "from torchvision import datasets, transforms\n",
    "\n",
    "train_dataset = datasets.cifar.CIFAR100(\"/home/team/zhaohongwei/Dataset\", train=True, download=False)\n",
    "test_dataset = datasets.cifar.CIFAR100(\"/home/team/zhaohongwei/Dataset\", train=False, download=False)\n",
    "\n",
    "print(len(train_dataset))"
   ]
  },
  {
   "cell_type": "code",
   "execution_count": 3,
   "metadata": {},
   "outputs": [
    {
     "name": "stdout",
     "output_type": "stream",
     "text": [
      "tensor([[-0.6007,  1.5729,  0.7741,  1.4759],\n",
      "        [-0.7076, -1.7579,  0.1997, -0.3928],\n",
      "        [ 1.0415, -0.7912,  0.8644, -0.8971]])\n"
     ]
    }
   ],
   "source": [
    "import torch \n",
    "\n",
    "out = torch.randn(3,4)\n",
    "print(out)"
   ]
  },
  {
   "cell_type": "code",
   "execution_count": null,
   "metadata": {},
   "outputs": [],
   "source": []
  }
 ],
 "metadata": {
  "kernelspec": {
   "display_name": "cl",
   "language": "python",
   "name": "python3"
  },
  "language_info": {
   "codemirror_mode": {
    "name": "ipython",
    "version": 3
   },
   "file_extension": ".py",
   "mimetype": "text/x-python",
   "name": "python",
   "nbconvert_exporter": "python",
   "pygments_lexer": "ipython3",
   "version": "3.10.13"
  }
 },
 "nbformat": 4,
 "nbformat_minor": 2
}
