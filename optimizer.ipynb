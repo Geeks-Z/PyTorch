{
 "cells": [
  {
   "cell_type": "markdown",
   "metadata": {},
   "source": [
    "## step"
   ]
  },
  {
   "cell_type": "code",
   "execution_count": 2,
   "metadata": {},
   "outputs": [
    {
     "name": "stdout",
     "output_type": "stream",
     "text": [
      "weight before step:tensor([[ 0.7809, -0.3643],\n",
      "        [-0.6326, -0.6594]])\n",
      "weight after step:tensor([[-0.2191, -1.3643],\n",
      "        [-1.6326, -1.6594]])\n"
     ]
    }
   ],
   "source": [
    "import torch\n",
    "import torch.optim as optim\n",
    "\n",
    "weight = torch.randn((2, 2), requires_grad=True)\n",
    "weight.grad = torch.ones((2, 2))\n",
    "\n",
    "optimizer = optim.SGD([weight], lr=1)\n",
    "print(\"weight before step:{}\".format(weight.data))\n",
    "optimizer.step()\n",
    "print(\"weight after step:{}\".format(weight.data))"
   ]
  },
  {
   "cell_type": "markdown",
   "metadata": {},
   "source": [
    "## zero_grad()"
   ]
  },
  {
   "cell_type": "code",
   "execution_count": 3,
   "metadata": {},
   "outputs": [
    {
     "name": "stdout",
     "output_type": "stream",
     "text": [
      "weight before step:tensor([[-0.2191, -1.3643],\n",
      "        [-1.6326, -1.6594]])\n",
      "weight after step:tensor([[-1.2191, -2.3643],\n",
      "        [-2.6326, -2.6594]])\n",
      "weight in optimizer:2085881244544\n",
      "weight in weight:2085881244544\n",
      "\n",
      "weight.grad is tensor([[1., 1.],\n",
      "        [1., 1.]])\n",
      "\n",
      "after optimizer.zero_grad(), weight.grad is\n",
      "tensor([[0., 0.],\n",
      "        [0., 0.]])\n"
     ]
    }
   ],
   "source": [
    "\n",
    "print(\"weight before step:{}\".format(weight.data))\n",
    "optimizer.step()        ## 修改lr=1 0.1观察结果\n",
    "print(\"weight after step:{}\".format(weight.data))\n",
    "\n",
    "print(\"weight in optimizer:{}\\nweight in weight:{}\\n\".format(id(optimizer.param_groups[0]['params'][0]), id(weight)))\n",
    "\n",
    "print(\"weight.grad is {}\\n\".format(weight.grad))\n",
    "optimizer.zero_grad()\n",
    "print(\"after optimizer.zero_grad(), weight.grad is\\n{}\".format(weight.grad))\n",
    "  "
   ]
  },
  {
   "cell_type": "markdown",
   "metadata": {},
   "source": [
    "## add_param_group()"
   ]
  },
  {
   "cell_type": "code",
   "execution_count": 4,
   "metadata": {},
   "outputs": [
    {
     "name": "stdout",
     "output_type": "stream",
     "text": [
      "optimizer.param_groups is\n",
      "[{'params': [tensor([[-1.2191, -2.3643],\n",
      "        [-2.6326, -2.6594]], requires_grad=True)], 'lr': 1, 'momentum': 0, 'dampening': 0, 'weight_decay': 0, 'nesterov': False, 'maximize': False, 'foreach': None, 'differentiable': False}]\n",
      "optimizer.param_groups is\n",
      "[{'params': [tensor([[-1.2191, -2.3643],\n",
      "        [-2.6326, -2.6594]], requires_grad=True)], 'lr': 1, 'momentum': 0, 'dampening': 0, 'weight_decay': 0, 'nesterov': False, 'maximize': False, 'foreach': None, 'differentiable': False}, {'params': [tensor([[ 0.5553,  0.3520,  0.5184],\n",
      "        [ 0.1242,  0.1143, -0.0695],\n",
      "        [-0.5340,  0.0485,  0.5355]], requires_grad=True)], 'lr': 0.0001, 'momentum': 0, 'dampening': 0, 'weight_decay': 0, 'nesterov': False, 'maximize': False, 'foreach': None, 'differentiable': False}]\n"
     ]
    }
   ],
   "source": [
    "print(\"optimizer.param_groups is\\n{}\".format(optimizer.param_groups))\n",
    "w2 = torch.randn((3, 3), requires_grad=True)\n",
    "optimizer.add_param_group({\"params\": w2, 'lr': 0.0001})\n",
    "print(\"optimizer.param_groups is\\n{}\".format(optimizer.param_groups))"
   ]
  }
 ],
 "metadata": {
  "kernelspec": {
   "display_name": "torch_hwzhao",
   "language": "python",
   "name": "python3"
  },
  "language_info": {
   "codemirror_mode": {
    "name": "ipython",
    "version": 3
   },
   "file_extension": ".py",
   "mimetype": "text/x-python",
   "name": "python",
   "nbconvert_exporter": "python",
   "pygments_lexer": "ipython3",
   "version": "3.8.16"
  }
 },
 "nbformat": 4,
 "nbformat_minor": 2
}
