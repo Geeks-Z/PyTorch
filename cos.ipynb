{
 "cells": [
  {
   "cell_type": "code",
   "execution_count": 1,
   "metadata": {},
   "outputs": [],
   "source": [
    "import torch"
   ]
  },
  {
   "cell_type": "code",
   "execution_count": 5,
   "metadata": {},
   "outputs": [
    {
     "ename": "RuntimeError",
     "evalue": "self must be a matrix",
     "output_type": "error",
     "traceback": [
      "\u001b[1;31m---------------------------------------------------------------------------\u001b[0m",
      "\u001b[1;31mRuntimeError\u001b[0m                              Traceback (most recent call last)",
      "\u001b[1;32mf:\\Repositories\\PyTorch\\cos.ipynb 单元格 2\u001b[0m line \u001b[0;36m5\n\u001b[0;32m      <a href='vscode-notebook-cell:/f%3A/Repositories/PyTorch/cos.ipynb#W1sZmlsZQ%3D%3D?line=2'>3</a>\u001b[0m A_norm \u001b[39m=\u001b[39m A \u001b[39m/\u001b[39m torch\u001b[39m.\u001b[39mnorm(A, dim\u001b[39m=\u001b[39m\u001b[39m0\u001b[39m, keepdim\u001b[39m=\u001b[39m\u001b[39mTrue\u001b[39;00m)\n\u001b[0;32m      <a href='vscode-notebook-cell:/f%3A/Repositories/PyTorch/cos.ipynb#W1sZmlsZQ%3D%3D?line=3'>4</a>\u001b[0m B_norm \u001b[39m=\u001b[39m B \u001b[39m/\u001b[39m torch\u001b[39m.\u001b[39mnorm(B,dim\u001b[39m=\u001b[39m\u001b[39m1\u001b[39m, keepdim\u001b[39m=\u001b[39m\u001b[39mTrue\u001b[39;00m)\n\u001b[1;32m----> <a href='vscode-notebook-cell:/f%3A/Repositories/PyTorch/cos.ipynb#W1sZmlsZQ%3D%3D?line=4'>5</a>\u001b[0m cos_similarity \u001b[39m=\u001b[39m torch\u001b[39m.\u001b[39;49mmm(A_norm, B_norm\u001b[39m.\u001b[39;49mT)\n\u001b[0;32m      <a href='vscode-notebook-cell:/f%3A/Repositories/PyTorch/cos.ipynb#W1sZmlsZQ%3D%3D?line=5'>6</a>\u001b[0m \u001b[39mprint\u001b[39m(cos_similarity)\n",
      "\u001b[1;31mRuntimeError\u001b[0m: self must be a matrix"
     ]
    }
   ],
   "source": [
    "A = torch.tensor([1,2,3],dtype=torch.float32)\n",
    "B=torch.tensor([[1,2,3],[-2,-4,-6],[7,8,9]],dtype=torch.float32)\n",
    "A_norm = A / torch.norm(A, dim=0, keepdim=True)\n",
    "B_norm = B / torch.norm(B,dim=1, keepdim=True)\n",
    "cos_similarity = torch.mm(A_norm, B_norm.T)\n",
    "print(cos_similarity)"
   ]
  }
 ],
 "metadata": {
  "kernelspec": {
   "display_name": "torch_hwzhao",
   "language": "python",
   "name": "python3"
  },
  "language_info": {
   "codemirror_mode": {
    "name": "ipython",
    "version": 3
   },
   "file_extension": ".py",
   "mimetype": "text/x-python",
   "name": "python",
   "nbconvert_exporter": "python",
   "pygments_lexer": "ipython3",
   "version": "3.8.16"
  }
 },
 "nbformat": 4,
 "nbformat_minor": 2
}
